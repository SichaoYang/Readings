{
 "cells": [
  {
   "cell_type": "markdown",
   "metadata": {},
   "source": [
    "# Signatures of a Statistical Computation in the Human Sense of Confidence\n",
    "Hangya, B., Sanders, J. I., & Kepecs, A. (2016). \n",
    "A mathematical framework for statistical decision confidence. \n",
    "_Neural Computation, 28_(9), 1840-1858.\n",
    "[doi:10.1162/NECO_a_00864](https://www.mitpressjournals.org/doi/abs/10.1162/NECO_a_00864)\n",
    "\n",
    "Sanders, J. I., Hangya, B., & Kepecs, A. (2016). \n",
    "Signatures of a statistical computation in the human sense of confidence. \n",
    "_Neuron, 90_(3), 499-506. \n",
    "[doi:10.1016/j.neuron.2016.03.025](https://www.cell.com/neuron/fulltext/S0896-6273(16)30016-2)\n",
    "\n",
    "Drugowitsch, J. (2016). \n",
    "Becoming confident in the statistical nature of human confidence judgments. \n",
    "_Neuron, 90_(3), 425-427. \n",
    "[doi:10.1016/j.neuron.2016.04.023](https://doi.org/10.1016/j.neuron.2016.04.023)"
   ]
  },
  {
   "cell_type": "markdown",
   "metadata": {
    "pycharm": {
     "name": "#%% md\n"
    }
   },
   "source": [
    "## Contributions\n",
    "Sanders et al. show that \n",
    "human confidence judgments is consistent with the mental computation of statistical confidence \n",
    "in both a perceptual and a knowledge-based decision task."
   ]
  },
  {
   "cell_type": "markdown",
   "metadata": {},
   "source": [
    "## Introduction\n",
    "$\\text{Decision confidence} \\begin{cases}\n",
    "\\text{Statistical: Bayesian posterior probability} \\\\\n",
    "\\text{Psychological: heuristic metacognitive monitoring}\n",
    "\\end{cases}$\n",
    "\n",
    "### Computational foundations\n",
    "- Signal detection theory: decision under uncertainty \n",
    "([Kepecs, Uchida, Zariwala, & Mainen, 2008](https://www.nature.com/articles/nature07200); \n",
    "[Maniscalco & Lau, 2012](https://www.sciencedirect.com/science/article/pii/S1053810011002303)).\n",
    "- Sequential sampling models: decision from noisy evidence over time \n",
    "([Bogacz, Brown, Moehlis, Holmes, & Cohen, 2006](https://psycnet.apa.org/journals/rev/113/4/700.html?uid=2006-12689-002)).\n",
    "- Race models: estimate confidence from winning and losing differences \n",
    "([Kepecs et al., 2008](https://www.nature.com/articles/nature07200); \n",
    "[Drugowitsch, Moreno-Bote, & Pouget, 2014](https://journals.plos.org/plosone/article?id=10.1371/journal.pone.0096511)).\n",
    "- Neural networks based on attractor dynamics: compute confidence by neural circuits \n",
    "([Insabato, Pannunzi, Rolls, & Deco, 2010](https://www.physiology.org/doi/abs/10.1152/jn.01068.2009); \n",
    "[Rolls, Grabenhorst, & Deco, 2010](https://www.physiology.org/doi/abs/10.1152/jn.00571.2010)).\n",
    "\n",
    "### Neural basis of decision confidence\n",
    "- Signal detection theory, race models $\\to$ signatures of confidence in \n",
    "an outcome prediction region in rodent OFC\n",
    "([Kepecs et al., 2008](https://www.nature.com/articles/nature07200))\n",
    "- Signal detection theory $\\to$ visual categorization confidence in dorsal pulvinar\n",
    "([Komura, Nikkuni, Hirashima, Uetake, & Miyamoto, 2013](https://www.nature.com/neuro/journal/v16/n6/abs/nn.3393.html))\n",
    "- Sequential sampling model $\\to$ motion identification confidence in primate parietal cortex\n",
    "([Kiani & Shadlen, 2009](https://science.sciencemag.org/content/324/5928/759.short))\n",
    "- Signal detection theory $\\to$ metacognitive sensitivity of human confidence reports \n",
    "([Kunimoto, Miller, & Pashler, 2001](https://www.sciencedirect.com/science/article/pii/S105381000090494X))\n",
    "& rodent behavioral confidence reports\n",
    "([Lak, Costa, Romberg, Koulakov, Mainen, & Kepecs, 2014](https://www.sciencedirect.com/science/article/pii/S0896627314007405)).\n",
    "\n",
    "## Definition of statistical confidence\n",
    "![](https://www.biorxiv.org/content/biorxiv/early/2015/04/01/017400/F1.medium.gif)  \n",
    "Figure 1: \"A framework for statistical decision confidence\" \n",
    "by Hangya et al., 2016, p. 1843.\n",
    "\n",
    "| meaning    | random variable          | realization                   |\n",
    "|:----------:|:------------------------:|:-----------------------------:|\n",
    "| stimulus   | $D$                      | $d$                           |\n",
    "| percept    | $\\hat{D}=\\hat{D}(D)$     | $\\hat{d}==\\hat{D}(d)$         |\n",
    "| choice     | $\\theta=\\theta(\\hat{D})$ | $\\vartheta=\\theta(\\hat{d})$   |\n",
    "| confidence | $C=\\xi(\\hat{D}, \\theta)$ | $c = \\xi(\\hat{d}, \\vartheta)$ |\n",
    "| evaluation | $\\Pi=\\Pi(\\theta)$        | $\\pi=\\Pi(\\vartheta)$          |\n",
    "\n",
    "Decision correctness  \n",
    "$$\\pi = \\Pi(\\vartheta) = \\Pi(\\theta(\\hat{d}))$$\n",
    "\n",
    "Confidence as hypothesis testing:  \n",
    "$$H_0: \\Pi = 0$$  \n",
    "$$H_1: \\Pi = 1$$    \n",
    "$\\begin{align}\n",
    "c := \\xi(\\hat{d}, \\vartheta) \n",
    ":=& P(H_1|\\hat{D}=\\hat{d},\\theta=\\vartheta) \\\\\n",
    "=& P(\\Pi=1|\\hat{D}=\\hat{d},\\theta=\\theta(\\hat{d})) \\\\\n",
    "\\xrightarrow{\\text{deterministic }\\theta}& P(H_1|\\hat{D}=\\hat{d})\n",
    "\\end{align}$ "
   ]
  },
  {
   "cell_type": "markdown",
   "source": [
    "## Operationization: 4 signatures of statistical confidence\n",
    "1. Confidence predicts accuracy (Figure 2B; 3A).  \n",
    "   $\\begin{align}\n",
    "   A\n",
    "   &= E[\\Pi] \\\\\n",
    "   &= \\frac{\\int_{\\Pi=1}\\pi\\iint_{(\\hat{D},\\theta) \\in \\xi^{-1}(c)}f_{\\Pi,\\hat{D},\\theta}(\\pi,\\hat{d},\\vartheta)\\mathrm{d}\\pi\\mathrm{d}\\hat{d}\\mathrm{d}\\vartheta}\n",
    "   {\\iint_{(\\hat{D},\\theta) \\in \\xi^{-1}(c)}f_{\\hat{D},\\theta}(\\hat{d},\\vartheta)\\mathrm{d}\\hat{d}\\mathrm{d}\\vartheta} \\\\   \n",
    "   &= \\frac{\\int_{\\Pi=1}\\iint_{(\\hat{D},\\theta) \\in \\xi^{-1}(c)}f_{\\Pi}(\\pi|\\hat{D}=\\hat{d},\\theta=\\vartheta)f_{\\hat{D},\\theta}(\\hat{d},\\vartheta)\\mathrm{d}\\pi\\mathrm{d}\\hat{d}\\mathrm{d}\\vartheta}\n",
    "   {\\iint_{(\\hat{D},\\theta) \\in \\xi^{-1}(c)}f_{\\hat{D},\\theta}(\\hat{d},\\vartheta)\\mathrm{d}\\hat{d}\\mathrm{d}\\vartheta}  \\\\\n",
    "   &= \\frac{c\\int_{\\Pi=1}\\iint_{(\\hat{D},\\theta) \\in \\xi^{-1}(c)}f_{\\hat{D},\\theta}(\\hat{d},\\vartheta)\\mathrm{d}\\pi\\mathrm{d}\\hat{d}\\mathrm{d}\\vartheta}\n",
    "   {\\iint_{(\\hat{D},\\theta) \\in \\xi^{-1}(c)}f_{\\hat{D},\\theta}(\\hat{d},\\vartheta)\\mathrm{d}\\hat{d}\\mathrm{d}\\vartheta} \\\\\n",
    "   &= c\n",
    "   \\end{align}$\n",
    "2. The vevaiometric curve (Figure 2C; 3B).\n",
    "    - Confidence for correct choices increases with increasing evidence discriminability.\n",
    "    - Confidence for incorrect choices decreases with increasing evidence discriminability.\n",
    "   \n",
    "   Define discriminability $\\Delta:=\\Delta(P(D))$ s.t.  \n",
    "   $\\begin{align}\n",
    "   & \\Delta(P_1(D)) > \\Delta(P_2(D)) \\\\\n",
    "   \\iff & P(H_1|P_1(D)) > P(H_1|P_2(D)) \\\\\n",
    "   \\iff & E(\\Pi(\\theta)|P_1(D)) > E(\\Pi(\\theta)|P_2(D)) \\\\\n",
    "   \\end{align}$\n",
    "   \n",
    "   Intuition: higher evidence discriminability generates \n",
    "   higher average percept discriminability for correct choices and\n",
    "   lower average percept discriminability for incorrect choices (Figure 3D).\n",
    "3. Uninformative evidence induces mid-level confidence 0.75 (Figure 2C; 3B). Assumptions:\n",
    "   1. The percept is symmetric about the evidence.\n",
    "   2. The evidence follow uniform distribution.\n",
    "   3. The choice is deterministic: \n",
    "   $\\pi = \\begin{cases}\n",
    "   0, d\\hat{d} \\leq 0 \\\\\n",
    "   1, d\\hat{d} > 0\n",
    "   \\end{cases}$.\n",
    "   \n",
    "***Lemma*** $\\forall$ probability density function $f$ and distribution function $F$ symmetric to $0$,  \n",
    "$$\\int_0^\\infty f(t)F(t)\\mathrm{d}t=\\frac{3}{8}$$.\n",
    "\n",
    "   ***Proof of Lemma***  \n",
    "   $\\begin{align}\n",
    "   \\forall K, & \\int_{t=-\\infty}^K f(t)F(t)\\mathrm{d}t \\\\\n",
    "   =& \\int_{t=-\\infty}^K f(t)\\int_{x=-\\infty}^t f(x)\\mathrm{d}x\\mathrm{d}t \\\\\n",
    "   =& \\frac{1}{2}\\Big[\\int_{t=-\\infty}^K \\int_{x=-\\infty}^t f(t)f(x)\\mathrm{d}x\\mathrm{d}t+\n",
    "   \\int_{t=-\\infty}^K \\int_{x=-\\infty}^t f(t)f(x)\\mathrm{d}x\\mathrm{d}t\\Big] \\\\\n",
    "   =& \\frac{1}{2}\\Big[\\int_{t=-\\infty}^K \\int_{x=-\\infty}^t f(t)f(x)\\mathrm{d}x\\mathrm{d}t+\n",
    "   \\int_{x=-\\infty}^K \\int_{t=x}^K f(t)f(x)\\mathrm{d}x\\mathrm{d}t\\Big] \\\\\n",
    "   =& \\frac{1}{2}\\int_{t=-\\infty}^K \\int_{x=-\\infty}^K f(t)f(x)\\mathrm{d}x\\mathrm{d}t \\\\\n",
    "   =& \\frac{1}{2}\\Big[ \\int_{t=-\\infty}^K f(t)\\mathrm{d}t \\Big]^2\n",
    "   \\end{align}$  \n",
    "   $\\begin{align}\n",
    "   & \\int_0^\\infty f(t)F(t)\\mathrm{d}t \\\\\n",
    "   =& \\int_{-\\infty}^\\infty f(t)F(t)\\mathrm{d}t - \\int_{-\\infty}^0 f(t)F(t)\\mathrm{d}t\\\\\n",
    "   =& \\frac{1}{2}\\Big[ \\int_{t=-\\infty}^\\infty f(t)\\mathrm{d}t \\Big]^2 - \n",
    "   \\frac{1}{2}\\Big[ \\int_{t=-\\infty}^0 f(t)\\mathrm{d}t \\Big]^2 \\\\\n",
    "   \\xrightarrow{f \\text{ is symmetric to 0}}=& \\frac{1}{2}\\Big[1\\Big]^2-\\frac{1}{2}\\Big[\\frac{1}{2}\\Big]^2 \\\\\n",
    "   =& \\frac{3}{8}\n",
    "   \\end{align}$\n",
    "   \n",
    "   ***Proof of Theorem***  \n",
    "   $\\begin{align}\n",
    "   c_0 =&\\int_{-\\infty}^\\infty P(\\hat{D}=\\hat{d}|d=0)\\xi(\\hat{d},\\vartheta)\\mathrm{d}\\hat{d} \\\\\n",
    "   \\xrightarrow{\\text{Assumption 3}} =& \\int_{-\\infty}^\\infty P(\\hat{D}=\\hat{d}|d=0)\\xi(\\hat{d})\\mathrm{d}\\hat{d} \\\\\n",
    "   \\xrightarrow{\\text{Assumption 1}} =& 2\\int_0^\\infty P(\\hat{D}=\\hat{d}|d=0)\\xi(\\hat{d})\\mathrm{d}\\hat{d} \\\\\n",
    "   \\xrightarrow{\\text{Assumption 2}} =& 2\\int_0^\\infty P(\\hat{D}=\\hat{d}|d=0)P(d>0|\\hat{D}=\\hat{d})\\mathrm{d}\\hat{d} \\\\\n",
    "   =& 2\\int_0^\\infty P(\\hat{D}=\\hat{d}|d=0)\\frac{P(d>0,\\hat{D}=\\hat{d})}{f_{\\hat{D}}(\\hat{d})}\\mathrm{d}\\hat{d} \\\\\n",
    "   =& 2\\int_0^\\infty P(\\hat{D}=\\hat{d}|d=0)\\frac{\\int_{d>0} P(\\hat{D}=\\hat{d}|D=d)f_D(d)\\mathrm{d}d}{f_{\\hat{D}}(\\hat{d})}\\mathrm{d}\\hat{d} \\\\\n",
    "   =& 2\\int_0^\\infty P(\\hat{D}=\\hat{d}|d=0)\\frac{\\int_{d'>0} P(\\hat{D}=\\hat{d}-d'|d=0)f_D(d)\\mathrm{d}d'}{f_{\\hat{D}}(\\hat{d})}\\mathrm{d}\\hat{d} \\\\\n",
    "   \\xrightarrow{P(D)=P(\\hat{D})} =&2\\int_0^\\infty P(\\hat{D}=\\hat{d}|d=0)P(\\hat{D}<\\hat{d}|d=0)\\mathrm{d}\\hat{d} \\\\\n",
    "   \\xrightarrow{\\text{Lemma}} =& 2\\Big[\\frac{3}{8}\\Big] \\\\\n",
    "   =& \\frac{3}{4}\n",
    "   \\end{align}$\n",
    "\n",
    "4. At any evidence discriminability and any confidence split, accuracy for low-confidence choices is not larger than \n",
    "that of high-confidence choices (Figure 2D; 3C).\n",
    "\n",
    "   According to signature 2, at a fixed evidence discriminability, \n",
    "   the average confidence in correct choices is no less than the average confidence in incorrect choices.  \n",
    "   Reversely, high confidence choices should have higher accuracy than low confidence choices.\n",
    "\n",
    "![](https://els-jbs-prod-cdn.literatumonline.com/cms/attachment/b8fd0b6a-ab03-4f22-8d1b-f9b2d807b209/gr1.jpg)  \n",
    "Figure 2. \"Statistical Decision Confidence Predicts Specific Interrelationships between \n",
    "Evidence Discriminability, Choice Outcome, and Confidence\"\n",
    "by Sanders et al., 2016, p. 500.\n",
    "\n",
    "![](https://els-jbs-prod-cdn.literatumonline.com/cms/attachment/4e6c35dc-1b93-4be1-95eb-24b55e9547a0/gr1.jpg)  \n",
    "Figure 3. \"The Hallmarks of Confidence Judgments of Statistical Decision Theory\" \n",
    "by Drugowitsch, J., 2016, p. 426.\n",
    "## Model simulation"
   ],
   "metadata": {
    "collapsed": false
   }
  },
  {
   "cell_type": "code",
   "execution_count": 1,
   "outputs": [],
   "source": [
    "import matplotlib.pyplot as plt\n",
    "import numpy as np"
   ],
   "metadata": {
    "collapsed": false,
    "pycharm": {
     "name": "#%%\n",
     "is_executing": false
    }
   }
  },
  {
   "cell_type": "code",
   "execution_count": 1,
   "metadata": {
    "pycharm": {
     "is_executing": false,
     "name": "#%%\n"
    }
   },
   "outputs": [],
   "source": [
    "# Monte Carlo simulation of statistical decision making\n",
    "rng = np.random.RandomState(4)\n",
    "n: int = 1000000000  # 1 billion simulation trials\n",
    "# a uniform distribution for evidence discriminability\n",
    "d = rng.uniform(-1., 1., n)\n",
    "# sample noisy percepts symmetric about ground truth evidence\n",
    "d_hat = d + rng.normal(0., .18, n)\n",
    "# evidence and percept of correct decisions have the same sign\n",
    "π = np.sign(d) == np.sign(d_hat)\n",
    "# group percepts into 200 equally sized bins spanning the range of percepts\n",
    "n_bin: int = 200\n",
    "bin_size = (d_hat.max() - d_hat.min()) / n_bin\n",
    "# compute confidence in each percept as the fraction of correct trials in each bin\n",
    "c = np.zeros(n)  # decision confidence in each trial\n",
    "for i in np.arange(d_hat.min(), d_hat.max(), bin_size):\n",
    "    bin_i = (i <= d) & (d < i + bin_size)\n",
    "    c[bin_i] = (bin_i & π).sum() / bin_i.sum()"
   ]
  },
  {
   "cell_type": "code",
   "execution_count": null,
   "metadata": {},
   "outputs": [],
   "source": [
    "# group trials into 100 equally sized bins for plotting\n",
    "n_bin:int = 100\n",
    "bin_size = 1 / n_bin\n",
    "d_plot = np.arange(0, 1, bin_size)  # x\n",
    "discriminability = np.abs(d)  # evidence discriminability"
   ]
  },
  {
   "cell_type": "code",
   "execution_count": 2,
   "metadata": {
    "pycharm": {
     "is_executing": true,
     "name": "#%%\n"
    }
   },
   "outputs": [
    {
     "name": "stderr",
     "output_type": "stream",
     "text": [
      "/usr/local/lib/python3.6/dist-packages/ipykernel_launcher.py:9: RuntimeWarning: Mean of empty slice.\n",
      "  if __name__ == '__main__':\n",
      "/usr/local/lib/python3.6/dist-packages/numpy/core/_methods.py:85: RuntimeWarning: invalid value encountered in double_scalars\n",
      "  ret = ret.dtype.type(ret / rcount)\n"
     ]
    },
    {
     "data": {
      "image/png": "[encoded data removed]",
      "text/plain": [
       "<Figure size 432x288 with 1 Axes>"
      ]
     },
     "metadata": {
      "needs_background": "light"
     },
     "output_type": "display_data"
    }
   ],
   "source": [
    "# plot the relationship between average confidence and evidence discriminability\n",
    "# conditioned on trial correctness\n",
    "t_plot = np.zeros(n_bin)  # average confidence in correct trials in each bin\n",
    "f_plot = np.zeros(n_bin)  # average confidence in incorrect trials in each bin\n",
    "for i in range(n_bin):\n",
    "    bin_i = (d_plot[i] < discriminability) & (discriminability < d_plot[i] + bin_size)\n",
    "    t_plot[i] = c[bin_i & π].mean()\n",
    "    f_plot[i] = c[bin_i & np.logical_not(π)].mean()\n",
    "plt.plot(d_plot, t_plot, 'g', d_plot, f_plot, 'r')\n",
    "plt.legend(['Correct', 'Error'], loc='lower left')\n",
    "plt.xlabel('Evidence discriminability')\n",
    "plt.ylabel('Confidence')\n",
    "plt.show()"
   ]
  },
  {
   "cell_type": "code",
   "execution_count": 4,
   "metadata": {
    "pycharm": {
     "name": "#%%\n"
    }
   },
   "outputs": [
    {
     "data": {
      "image/png": "[encoded data removed]",
      "text/plain": [
       "<Figure size 432x288 with 1 Axes>"
      ]
     },
     "metadata": {
      "needs_background": "light"
     },
     "output_type": "display_data"
    }
   ],
   "source": [
    "# plot the relationship between decision accuracy and evidence discriminability\n",
    "# conditioned on mean-split high/low confidence\n",
    "h_plot = np.zeros(n_bin)  # decision accuracy in high confidence trials in each bin\n",
    "l_plot = np.zeros(n_bin)  # decision accuracy in low confidence trials in each bin\n",
    "h_conf = c > c.mean()  # high confidence trials\n",
    "l_conf = c <= c.mean()  # low confidence trials\n",
    "for i in range(n_bin):\n",
    "    bin_i = (d_plot[i] < discriminability) & (discriminability < d_plot[i] + bin_size)\n",
    "    h = bin_i & h_conf\n",
    "    l = bin_i & l_conf\n",
    "    h_plot[i] = (h & π).sum() / h.sum()\n",
    "    l_plot[i] = (l & π).sum() / l.sum()\n",
    "plt.plot(d_plot, h_plot, 'c', d_plot, l_plot, 'k')\n",
    "plt.legend(['High confidence', 'Low confidence'], loc='lower right')\n",
    "plt.xlabel('Evidence discriminability')\n",
    "plt.ylabel('% correct')\n",
    "plt.show()"
   ]
  },
  {
   "cell_type": "markdown",
   "metadata": {},
   "source": [
    "## Experiments: 2 two-alternative forced choice tasks\n",
    "### Perceptual decision: click rate discrimination task\n",
    "![](https://els-jbs-prod-cdn.literatumonline.com/cms/attachment/0d6fa368-bd55-49f6-bdbc-86a48a4a07ee/gr2.jpg)  \n",
    "Figure 4. \"The Human Feeling of Confidence Follows Statistical Predictions in a Perceptual Decision Task\"\n",
    "by Sanders et al., 2016, p. 502.\n",
    "  \n",
    "Choose the side with higher click rate and indicate confidence on a 5-division scale.  \n",
    "$nL \\text{ clicks} \\xrightarrow{\\text{left ear}} \\text{participant} \\xleftarrow{\\text{right ear}} nR \\text{ clicks}$  \n",
    "Evidence discriminability $\\Delta := \\Big|\\frac{nL-nR}{nL+nR}\\Big|$\n",
    "\n",
    "The parameter-free model predicts qualitative trends of human reported confidence well.  \n",
    "Adding a free confidence reporting efficacy parameter improves model fitting.  \n",
    "Error trial reaction time shows inconsistent pattern among subjects.\n",
    "\n",
    "### General knowledge decision: country population discrimination task\n",
    "![](https://els-jbs-prod-cdn.literatumonline.com/cms/attachment/8e86cd09-c57a-4e80-b1f0-08cc0d7dff02/gr3.jpg)\n",
    "Figure 5. \"The Human Feeling of Confidence Follows Statistical Predictions in a General Knowledge Decision Task\"\n",
    "by Sanders et al., 2016, p. 502.\n",
    "\n",
    "Choose the country with higher population and indicate confidence on a 5-division scale.  \n",
    "\n",
    "The parameter-free model fits human reported confidence well.  \n",
    "\n",
    "## Quantitative examination: model fitting\n",
    "1. Fit parameter-free model to each subject\n",
    "    - Estimate the variance $\\sigma$ of perception noise from the subject's choice accuracy.\n",
    "    - Generated 10M trials with replicates of the subject’s trial discriminability.\n",
    "    - Categorize predicted confidence based on the subject's scale division frequency.  \n",
    "2. Fit mixing parameter $\\alpha$ to each subject:\n",
    "    - Sample random confidence $\\eta$ from the 10M simulated trials.  \n",
    "    - Mix raw prediction $c$ and $\\eta$ into noisy prediction $c_n=\\alpha c+(1-\\alpha)\\eta$. \n",
    "    - Estimate $\\alpha$ from the subject's confidence reports."
   ]
  },
  {
   "cell_type": "markdown",
   "metadata": {},
   "source": [
    "## Problems\n",
    "- Post-choice evidence processing \n",
    "([Resulaj, Kiani, Wolpert, & Shadlen, 2009](https://www.nature.com/articles/nature08275)).\n",
    "- Ideal-observer confidence should not depend on trial difficulty \n",
    "([Drugowitsch, Moreno-Bote, Churchland, Shadlen, & Pouget, 2012](https://www.jneurosci.org/content/32/11/3612)).\n",
    "- Asymmetric choices?"
   ]
  }
 ],
 "metadata": {
  "kernelspec": {
   "display_name": "PyCharm (Readings)",
   "language": "python",
   "name": "pycharm-de948503"
  },
  "language_info": {
   "codemirror_mode": {
    "name": "ipython",
    "version": 3
   },
   "file_extension": ".py",
   "mimetype": "text/x-python",
   "name": "python",
   "nbconvert_exporter": "python",
   "pygments_lexer": "ipython3",
   "version": "3.6.8"
  },
  "pycharm": {
   "stem_cell": {
    "cell_type": "raw",
    "source": [],
    "metadata": {
     "collapsed": false
    }
   }
  }
 },
 "nbformat": 4,
 "nbformat_minor": 2
}