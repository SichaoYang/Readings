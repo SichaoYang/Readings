{
 "cells": [
  {
   "cell_type": "markdown",
   "metadata": {
    "collapsed": true,
    "pycharm": {
     "name": "#%% md\n"
    }
   },
   "source": [
    "# Psychology and Neurobiology of Simple Decisions\n",
    "Smith, P. L., & Ratcliff, R. (2004). \n",
    "Psychology and neurobiology of simple decisions. \n",
    "_Trends in Neurosciences, 27_(3), 161-168.\n",
    "[doi:10.1016/j.tins.2004.01.006](https://cpb-us-w2.wpmucdn.com/u.osu.edu/dist/6/60429/files/2018/07/trendneuro04-1gx6dx9.pdf)"
   ]
  },
  {
   "cell_type": "markdown",
   "source": [
    "## Introduction\n",
    "### Neural correlates of two-choice decisions\n",
    "![](https://ars.els-cdn.com/content/image/1-s2.0-S0166223604000220-gr1.gif)  \n",
    "Figure 1. \"Neural and behavioral correlates of eye movement disorders\"\n",
    "by Smith & Ratcliff, 2004, p. 162.\n",
    "\n",
    "| neuron     | initial | delay |\n",
    "|:----------:|:-------:|:-----:|\n",
    "| target     | $\\uparrow$ | $\\uparrow / -$ | \n",
    "| distractor | $\\uparrow$ | $\\downarrow$ | \n",
    "\n",
    "Neural firing rates in oculomotor areas (Figure 1a) reflect visual discriminative information:\n",
    "- Oddball discrimination task (Figure 1b): \n",
    "a saccade to the odd-colored patch among same-colored distractors.\n",
    "    - Frontal eye field (FEF)\n",
    "- Coherent motion detection task (Figure 1c): \n",
    "a saccade indicates the moving direction of a cohert of dots among randomly moving distractors.\n",
    "    - Extrastriate cortex middle temporal area (MT)\n",
    "    - Extrastriate cortex lateral interparietal area (LIP)\n",
    "- Dot separation task (Figure 1d): \n",
    "a saccade to the left or right indicates a large or small distance between the stimulus light and fixation.\n",
    "    - Superior colliculus (SC)\n",
    "\n",
    "Evidence \n",
    "\n"
   ],
   "metadata": {
    "collapsed": false,
    "pycharm": {
     "name": "#%% md\n"
    }
   }
  }
 ],
 "metadata": {
  "language_info": {
   "codemirror_mode": {
    "name": "ipython",
    "version": 2
   },
   "file_extension": ".py",
   "mimetype": "text/x-python",
   "name": "python",
   "nbconvert_exporter": "python",
   "pygments_lexer": "ipython2",
   "version": "2.7.6"
  },
  "kernelspec": {
   "name": "python3",
   "language": "python",
   "display_name": "Python 3"
  },
  "pycharm": {
   "stem_cell": {
    "cell_type": "raw",
    "source": [],
    "metadata": {
     "collapsed": false
    }
   }
  }
 },
 "nbformat": 4,
 "nbformat_minor": 0
}