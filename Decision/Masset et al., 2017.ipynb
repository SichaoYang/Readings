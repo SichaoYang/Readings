{
 "cells": [
  {
   "cell_type": "markdown",
   "metadata": {
    "collapsed": true,
    "pycharm": {
     "name": "#%% md\n"
    }
   },
   "source": [
    "# Confidence Representations across Modalities in Orbitofrontal Cortex\n",
    "Masset, P., Ott, T., & Kepecs, A. (2017, September).\n",
    "_Confidence representations across modalities in orbitofrontal fortex._\n",
    "Poster at Cognitive Computational Neuroscience, New York, NY. \n",
    "Retrieved from <https://www2.securecms.com/CCNeuro/docs-0/59290ecb68ed3fef488a259d.pdf>."
   ]
  },
  {
   "cell_type": "markdown",
   "metadata": {},
   "source": [
    "## Contributions\n",
    "Masset et al. show that \n",
    "OFC may be responsible for the computation of a modality-irrelevant \n",
    "metacognitive confidence signal in a dual-modality decision task."
   ]
  },
  {
   "cell_type": "markdown",
   "metadata": {
    "pycharm": {
     "name": "#%% md\n"
    }
   },
   "source": [
    "## Introduction\n",
    "$\\begin{cases}\n",
    "\\text{Modality-specific sensory uncertainty: nature of the evidence} \\\\\n",
    "\\text{Metacognitive confidence: probability of being correct}\n",
    "\\end{cases}$"
   ]
  },
  {
   "cell_type": "markdown",
   "metadata": {},
   "source": [
    "## Experiments\n",
    "![](imgs/Masset1.png)  \n",
    "Figure 1: \"Behavioral task\" \n",
    "by Masset et al., 2017, p. 1.\n",
    "\n",
    "$\\text{Rats}\\xrightarrow{\\begin{cases}\n",
    "    \\text{Olfactory stimulus: two odors mixture} \\\\\n",
    "    \\text{Auditory stimulus: stereo click train}\n",
    "\\end{cases}}\n",
    "\\begin{cases}\n",
    "    \\text{Correct}\\xrightarrow{\\text{delay}}\n",
    "    \\begin{cases}\n",
    "        \\text{Reward: 90%} \\\\\n",
    "        \\text{No reward: 10%} \\to \\text{Waiting time}\n",
    "    \\end{cases} \n",
    "    \\\\\\\\\n",
    "    \\text{Error} \\to \\text{No reward}\n",
    "\\end{cases}$"
   ]
  },
  {
   "cell_type": "markdown",
   "metadata": {},
   "source": [
    "## Experiments\n",
    "Data: waiting time and 450 single OFC neuron recordings from 3 rats.\n",
    "### Behavioral report of decision confidence\n",
    "![](imgs/Masset2.png)  \n",
    "Figure 2: \"Waiting time patterns follow the \n",
    "signatures of decision confidence in both modalities\" \n",
    "by Masset et al., 2017, p. 2.\n",
    "\n",
    "Waiting time can be a behavioral report of rat confidence.\n",
    "\n",
    "### Neural correlation of decision confidence in OFC\n",
    "Anticipation period: the initial 0.6s of the waiting time period,\n",
    "after entering the choice port, before any reward.\n",
    "\n",
    "![](imgs/Masset3.png)  \n",
    "Figure 3: \"Neural correlates of decision confidence in a single neuron across modalities\" \n",
    "by Masset et al., 2017, p. 2.\n",
    "\n",
    "The firing rate of a population of OFC neurons in the anticipation period \n",
    "follows signatures of decision confidence and predicts waiting time,\n",
    "irrespective of stimulus modality. \n",
    "\n"
   ]
  }
 ],
 "metadata": {
  "kernelspec": {
   "display_name": "Python 3",
   "language": "python",
   "name": "python3"
  },
  "language_info": {
   "codemirror_mode": {
    "name": "ipython",
    "version": 3
   },
   "file_extension": ".py",
   "mimetype": "text/x-python",
   "name": "python",
   "nbconvert_exporter": "python",
   "pygments_lexer": "ipython3",
   "version": "3.6.8"
  },
  "pycharm": {
   "stem_cell": {
    "cell_type": "raw",
    "metadata": {
     "collapsed": false
    },
    "source": []
   }
  }
 },
 "nbformat": 4,
 "nbformat_minor": 1
}
