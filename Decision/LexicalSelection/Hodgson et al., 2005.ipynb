{
 "cells": [
  {
   "cell_type": "markdown",
   "metadata": {
    "collapsed": true,
    "pycharm": {
     "name": "#%% md\n"
    }
   },
   "source": [
    "# Facilitation and Interference in Phonological Blocked-Cyclic Naming\n",
    "Hodgson, C., Schwartz, M. F., Schnur, T. T., & Brecher, A. (2005). \n",
    "Facilitation and interference in phonological blocked-cyclic naming. \n",
    "_Brain & Language, 95_, 46-47.\n",
    "[doi:10.1016/j.bandl.2005.07.017](https://www.escholar.manchester.ac.uk/uk-ac-man-scw:2d1797)\n",
    "\n",
    "## Methods\n",
    "Participants: 8 Broca's aphasia, 11 Non-Broca's aphasia, 12 control.\n",
    "\n",
    "**Phonological blocked-cyclic naming** task: \n",
    "72 pictures with monosyllabic names with 12 different onset phonemes in 12 sets of 6, repeating 4 times randomly.\n",
    "$\\begin{cases}\n",
    "\\text{blocked condition: setmates share the same onset} \\\\\n",
    "\\text{mixed condition: setmates have different onset}\n",
    "\\end{cases}$\n",
    "\n",
    "## Results\n",
    "Control participants obtain a strategic naming latency facilitation from phonological blocking;\n",
    "Aphasics made more naming errors under phonological interference.\n",
    "\n",
    "## Questions\n",
    "- What is the strategy used by healthy participants? \n",
    "Speaking the shared phoneme before the word production process finishes?\n",
    "Then it hides the true effect.\n"
   ]
  }
 ],
 "metadata": {
  "language_info": {
   "codemirror_mode": {
    "name": "ipython",
    "version": 2
   },
   "file_extension": ".py",
   "mimetype": "text/x-python",
   "name": "python",
   "nbconvert_exporter": "python",
   "pygments_lexer": "ipython2",
   "version": "2.7.6"
  },
  "kernelspec": {
   "name": "python3",
   "language": "python",
   "display_name": "Python 3"
  },
  "pycharm": {
   "stem_cell": {
    "cell_type": "raw",
    "source": [],
    "metadata": {
     "collapsed": false
    }
   }
  }
 },
 "nbformat": 4,
 "nbformat_minor": 0
}