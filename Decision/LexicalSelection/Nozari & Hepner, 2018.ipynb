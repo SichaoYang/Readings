{
 "cells": [
  {
   "cell_type": "markdown",
   "metadata": {
    "collapsed": true,
    "pycharm": {
     "name": "#%% md\n"
    }
   },
   "source": [
    "# To Select or to Wait? The Importance of Criterion Setting in Debates of Competitive Lexical Selection\n",
    "Nozari, N., & Hepner, C. R. (2018). \n",
    "To select or to wait? The importance of criterion setting in debates of competitive lexical selection. \n",
    "_Cognitive Neuropsychology_, 1-15.\n",
    "[doi:10.1080/02643294.2018.1476335](https://www.tandfonline.com/doi/full/10.1080/02643294.2018.1476335)"
   ]
  },
  {
   "cell_type": "markdown",
   "source": [
    "## Introduction\n",
    "### Word production\n",
    "**Spreading-activation theory** \n",
    "([Dell, 1986](https://psycnet.apa.org/doiLanding?doi=10.1037%2F0033-295X.93.3.283))  \n",
    "$\\text{semantic features} \\xrightarrow{\\text{spreading activation}}\n",
    "\\text{lexical representations} \\xrightarrow{\\text{selection}}\n",
    "\\text{target word}$\n",
    "\n",
    "Debates on target word selection\n",
    "\n",
    "- **Competitive** accounts: competitor activation **slows down** target selection \n",
    "([Levelt, Roelofs, & Meyer, 1999](https://doi.org/10.1017/S0140525X99001776)).  \n",
    "    * **Picture-Word Interference**: Distractor words slow down picture naming** \n",
    "    ([Schriefers, Meyer, & Levelt, 1990](https://doi.org/10.1016/0749-596X(90)90011-N)).  \n",
    "    * Semantically-related pictures slow down picture naming \n",
    "    ([Belke, Meyer, Damian, 2005](https://doi.org/10.1080/02724980443000142)).\n",
    "    * **Broca's area** subserves selection during high competition \n",
    "    ([Schnur et al., 2009](https://doi.org/10.1073/pnas.0805874106)).  \n",
    "\n",
    "- non-competitive accounts (semantic facilitation): distractor only **facilitates** the target, but not slows it down, at the lexical level ([Mahon et al., 2007](https://doi.org/10.1037/0278-7393.33.3.503); [Navarrete, Prato, Peressotti, & Mahon, 2014](https://doi.org/10.1016/j.jml.2014.05.003)).  \n",
    "\n",
    "    * **blocked cyclic naming paradigm** (repeatedly naming pictures in  semantically related and unrelated blocks): cycle 1 picture naming RT- <- semantically-closer words; cycle 2 RT+, omission+ <- semantically-closer words ([Oppenheim et al., 2010](https://doi.org/10.1016/j.cognition.2009.09.007); [Navarrete et al., 2014](https://doi.org/10.1016/j.jml.2014.05.003)).  \n",
    "    [[https://ars.els-cdn.com/content/image/1-s2.0-S0749596X14000527-gr1.jpg]]  \n",
    "    Fig. 1 from Navarrete et al., 2014.  \n",
    "    * repetition priming and cumulative semantic interference may result from **incremental learning**: word retrieval -> connections between semantic features and produced word+; connections between semantic features and competitors- ([Oppenheim, Dell, & Schwartz, 2010](https://doi.org/10.1016/j.cognition.2009.09.007)).  \n",
    "    [[https://ars.els-cdn.com/content/image/1-s2.0-S0010027709002200-gr2.jpg]]  \n",
    "    Fig. 2 from Oppenheim et al., 2010. \n",
    "    * booster (Broca's area?): repeated activation amplification until criterion met or time out -> RT & omission errors ([Oppenheim, Dell, & Schwartz, 2010](https://doi.org/10.1016/j.cognition.2009.09.007)).  \n",
    "    * response exclusion hypothesis: **post-lexical speech monitoring** according to response-relevant criteria exclude related production-ready words slower ([Mahon et al., 2007](https://doi.org/10.1037/0278-7393.33.3.503)).  \n",
    "\n"
   ],
   "metadata": {
    "collapsed": false,
    "pycharm": {
     "name": "#%% md\n"
    }
   }
  }
 ],
 "metadata": {
  "language_info": {
   "codemirror_mode": {
    "name": "ipython",
    "version": 2
   },
   "file_extension": ".py",
   "mimetype": "text/x-python",
   "name": "python",
   "nbconvert_exporter": "python",
   "pygments_lexer": "ipython2",
   "version": "2.7.6"
  },
  "kernelspec": {
   "name": "python3",
   "language": "python",
   "display_name": "Python 3"
  },
  "pycharm": {
   "stem_cell": {
    "cell_type": "raw",
    "source": [],
    "metadata": {
     "collapsed": false
    }
   }
  }
 },
 "nbformat": 4,
 "nbformat_minor": 0
}