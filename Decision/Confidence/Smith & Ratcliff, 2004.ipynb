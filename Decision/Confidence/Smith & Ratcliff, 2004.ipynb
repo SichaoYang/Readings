{
 "cells": [
  {
   "cell_type": "markdown",
   "metadata": {
    "collapsed": true,
    "pycharm": {
     "name": "#%% md\n"
    }
   },
   "source": [
    "# Psychology and Neurobiology of Simple Decisions\n",
    "Smith, P. L., & Ratcliff, R. (2004). \n",
    "Psychology and neurobiology of simple decisions. \n",
    "_Trends in Neurosciences, 27_(3), 161-168.\n",
    "[doi:10.1016/j.tins.2004.01.006](https://cpb-us-w2.wpmucdn.com/u.osu.edu/dist/6/60429/files/2018/07/trendneuro04-1gx6dx9.pdf)"
   ]
  },
  {
   "cell_type": "markdown",
   "source": [
    "## Introduction\n",
    "### Neural correlates\n",
    "![](https://ai2-s2-public.s3.amazonaws.com/figures/2017-08-08/0d0e7aac703a4fad95677161af796da19a1b1072/2-Figure1-1.png)  \n",
    "Figure 1. \"Neural and behavioral correlates of eye movement disorders\"\n",
    "by Smith & Ratcliff, 2004, p. 162.\n",
    "\n",
    "| firing rate | initial    | delay        |\n",
    "|:-----------:|:----------:|:------------:|\n",
    "| target      | $\\uparrow$ | $\\uparrow$   | \n",
    "| distractor  | $\\uparrow$ | $\\downarrow$ |   \n",
    "\n",
    "Table 1. Build-up of discriminative information.\n",
    "\n",
    "Neural firing rates in oculomotor areas (Figure 1a) reflect visual discriminative information:\n",
    "- Oddball discrimination task (Figure 1b): \n",
    "a saccade to the odd-colored patch among same-colored distractors.\n",
    "    - Frontal eye field (FEF)\n",
    "- Coherent motion detection task (Figure 1c): \n",
    "a saccade indicates the moving direction of a cohert of dots among randomly moving distractors.\n",
    "    - Extrastriate cortex middle temporal area (MT)\n",
    "    - Extrastriate cortex lateral interparietal area (LIP)\n",
    "- Dot separation task (Figure 1d): \n",
    "a saccade to the left or right indicates a large or small distance between the stimulus light and fixation.\n",
    "    - Superior colliculus (SC)\n",
    "\n",
    "Evidence for neural firing rates as correlates of behavioral decision process:\n",
    "- The build-up occurs irrespective of occurrence and correctness of a saccade: \n",
    "the correlation is not merely perceptual.\n",
    "- Growing speed and threshold-reaching time of the firing rate predicts decision time (Figure 1f).\n",
    "- Discriminative information growth depends on evidence discriminability (Figure 1e).\n",
    "- The build-up is sensitive to prior bias and reward likelihood."
   ],
   "metadata": {
    "collapsed": false,
    "pycharm": {
     "name": "#%% md\n"
    }
   }
  },
  {
   "cell_type": "markdown",
   "source": [
    "## Sequential-sampling models\n",
    "![](https://ai2-s2-public.s3.amazonaws.com/figures/2017-08-08/0d0e7aac703a4fad95677161af796da19a1b1072/4-Figure2-1.png)  \n",
    "Figure 2. \"Sequential-sampling models for two-choice decisions\"\n",
    "by Smith & Ratcliff, 2004, p. 164.\n",
    "\n",
    "Sequential-sampling models of decision making: multiple samples are assumed to \n",
    "improve reliability and minimize the effects of internal noise.\n",
    "- Wiener diffusion model: accumulating evidence $x_t$ with noise $c\\mathrm{d}W$ at each time step $t$ \n",
    "until the accumulated evidence $z$ reaches a decison criteria.  \n",
    "    $$dz = xdt+c\\mathrm{d}W, x_0 = 0$$\n",
    "    - Ornstein–Uhlenbeck diffusion model: accumulation of new evidence depends on accumulated evidence.  \n",
    "    $$dz = (\\lambda z + x)dt+c\\mathrm{d}W, x_0 = 0$$\n",
    "- Accumulator model (race model): accumulating evidence for each alternative separately until\n",
    "one of them reaches a decison criteria.\n",
    "    - Leaky competing accumulator model \n",
    "    ([Usher & McClelland, 2001](http://web.stanford.edu/~jlmcc/papers/UsherMcC01.pdf))\n",
    "\n",
    "Criterion: evidence accumulation threshold for a decision maker to choose a response\n",
    "- Criterion can depend on the specific response.\n",
    "- Speed–accuracy tradeoff: quick $\\xleftarrow{-}$ criterion $\\xrightarrow{+}$ accurate.\n",
    "\n",
    "Problem: the orderings of mean RTs for correct responses and errors \n",
    "cannot be predicted without additional sources of variability.\n"
   ],
   "metadata": {
    "collapsed": false,
    "pycharm": {
     "name": "#%% md\n"
    }
   }
  },
  {
   "cell_type": "markdown",
   "source": [
    "## Model testing\n",
    "\n"
   ],
   "metadata": {
    "collapsed": false
   }
  }
 ],
 "metadata": {
  "language_info": {
   "codemirror_mode": {
    "name": "ipython",
    "version": 2
   },
   "file_extension": ".py",
   "mimetype": "text/x-python",
   "name": "python",
   "nbconvert_exporter": "python",
   "pygments_lexer": "ipython2",
   "version": "2.7.6"
  },
  "kernelspec": {
   "name": "python3",
   "language": "python",
   "display_name": "Python 3"
  },
  "pycharm": {
   "stem_cell": {
    "cell_type": "raw",
    "source": [],
    "metadata": {
     "collapsed": false
    }
   }
  }
 },
 "nbformat": 4,
 "nbformat_minor": 0
}